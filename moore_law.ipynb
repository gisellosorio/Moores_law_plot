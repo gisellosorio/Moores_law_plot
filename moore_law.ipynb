import matplotlib.pyplot as mpl
import pandas as pd
import numpy as np
url='https://en.wikipedia.org/wiki/Transistor_count'
mdw=pd.read_csv('transistors-per-microprocessor-wp.csv', thousands=',')
for col in mdw.columns:
    print(col)
coluw=mdw.columns.values.tolist()
minyear=mdw['Date ofintroduction'].min()
count_row=mdw2.shape[0] #Number of rows
yincexp=[4.8,6.6,8.5,10,10.7] #Exponente del incremento-> Dado que y es logarítmico
yinc0=np.array(yincexp)
yinc=np.power(10,yinc0)
ys=np.array([1,1,-1,+1,1])
yinc=np.multiply(yinc,ys)
xinc=np.array([0,0,+5,-3,0])
mplotw=mdw.plot.scatter(x=coluw[2],y=coluw[1],logy=True,title='Ley de Moore: el número de transistores en microchips \n se duplica cada dos años.',figsize=(7,7),fontsize=15)
mplotw2=mdw2.plot.scatter(x=coluw[2],y=coluw[1],logy=True,figsize=(7,6),marker='v',color = 'red',ax=mplotw, s=100)
#mdw2[[coluw[2],coluw[1],coluw[0]]].apply(lambda x: mplotw2.text(*x),axis=1)
mplotw.set_xlabel('Año',fontsize=20)
mplotw.set_ylabel('Nro. de transistores \n por procesador',fontsize=20)
mplotw.spines['top'].set_visible(False)
mplotw.spines['right'].set_visible(False)
#fig = mplotw.get_figure()
#fig.savefig("ley_de_moore.png")
for i in range (0,count_row):
  mpl.annotate(mdw2[coluw[0]][i],xy=(mdw2[coluw[2]][i],mdw2[coluw[1]][i]),ha='right',xytext=(mdw2[coluw[2]][i]+3+xinc[i],mdw2[coluw[1]][i]+yinc[i]))
mplotw.figure.savefig('ley_de_moore.png',bbox_inches='tight')
mpl.show(block=True)
